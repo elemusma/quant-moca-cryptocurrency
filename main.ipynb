{
 "cells": [
  {
   "cell_type": "markdown",
   "metadata": {},
   "source": [
    "# Load Data into DataFrames (Pandas)"
   ]
  },
  {
   "cell_type": "code",
   "execution_count": 7,
   "metadata": {},
   "outputs": [
    {
     "name": "stdout",
     "output_type": "stream",
     "text": [
      "       symbol                 datetime  signal_price  signal_filter  timeframe\n",
      "0  MOCAUSDT.P  2024-10-12 18:50:07.548        0.0762              2          2\n",
      "              datetime     open     high      low    close  volume  symbol_id  \\\n",
      "0  2024-10-12 16:25:00  0.07671  0.07688  0.07670  0.07688    8249         11   \n",
      "1  2024-10-12 16:26:00  0.07688  0.07688  0.07681  0.07686    3164         11   \n",
      "2  2024-10-12 16:27:00  0.07686  0.07686  0.07672  0.07678    5406         11   \n",
      "3  2024-10-12 16:28:00  0.07678  0.07710  0.07678  0.07710  204496         11   \n",
      "4  2024-10-12 16:29:00  0.07710  0.07756  0.07708  0.07753  172354         11   \n",
      "\n",
      "   period_mins  version  \n",
      "0            1        0  \n",
      "1            1        0  \n",
      "2            1        0  \n",
      "3            1        0  \n",
      "4            1        0  \n",
      "             ticker       ADR        ADX     ADX+DI     ADX-DI        AO  \\\n",
      "0  BYBIT:MOCAUSDT.P  0.007900  30.433741  12.937618  28.978810 -0.017841   \n",
      "1  BYBIT:MOCAUSDT.P  0.007911  30.433741  12.918115  28.935126 -0.017855   \n",
      "2  BYBIT:MOCAUSDT.P  0.007911  30.433741  12.918115  28.935126 -0.017855   \n",
      "3  BYBIT:MOCAUSDT.P  0.007911  30.433741  12.918115  28.935126 -0.017855   \n",
      "4  BYBIT:MOCAUSDT.P  0.007911  30.433741  12.918115  28.935126 -0.017855   \n",
      "\n",
      "        ATR  Aroon.Down   Aroon.Up  BB.lower  ...  volume_quote|1  \\\n",
      "0  0.007571   85.714286  14.285714  0.067819  ...       221.39524   \n",
      "1  0.007583   85.714286  14.285714  0.067806  ...         2.07225   \n",
      "2  0.007583   85.714286  14.285714  0.067859  ...       123.47909   \n",
      "3  0.007583   85.714286  14.285714  0.067840  ...       153.47535   \n",
      "4  0.007583   85.714286  14.285714  0.067796  ...        71.42632   \n",
      "\n",
      "   volume_quote|5  volume_quote|15  volume_quote|30  volume_quote|60  \\\n",
      "0      4448.43765       4448.43765      24815.59542      24815.59542   \n",
      "1      9503.87575      13956.52700      34318.37875      34318.37875   \n",
      "2      3393.09447      18822.81971      39258.95574      39258.95574   \n",
      "3      1308.04079       1308.04079       1308.04079      40958.53209   \n",
      "4       769.65504       4452.13832       4452.13832      43994.39352   \n",
      "\n",
      "   volume_quote|120  volume_quote|240  volume_quote|1W  volume_quote|1M  \\\n",
      "0      133796.98233      293091.96056     1.702784e+07     4.602136e+07   \n",
      "1      143271.37400      302623.94525     1.703291e+07     4.598922e+07   \n",
      "2      148609.43423      308543.35688     1.709987e+07     4.616181e+07   \n",
      "3      150167.05228      309893.34943     1.707942e+07     4.610364e+07   \n",
      "4      152966.95180      312195.08488     1.703160e+07     4.596905e+07   \n",
      "\n",
      "                     DateTime  \n",
      "0  2024-10-12T15:18:51.853736  \n",
      "1  2024-10-12T15:23:54.336206  \n",
      "2  2024-10-12T15:28:54.013512  \n",
      "3  2024-10-12T15:33:56.236974  \n",
      "4  2024-10-12T15:38:49.628273  \n",
      "\n",
      "[5 rows x 2606 columns]\n"
     ]
    }
   ],
   "source": [
    "import pandas as pd\n",
    "\n",
    "# Load the CSV files\n",
    "signals = pd.read_csv('MOCA_SIGNALS.csv')\n",
    "ohlc_data = pd.read_csv('ohlc-MOCA-1728847479857.csv')\n",
    "derivatives = pd.read_csv('./MOCA/MOCAUSDT.csv')\n",
    "\n",
    "# Inspect the data\n",
    "print(signals.head())\n",
    "print(ohlc_data.head())\n",
    "print(derivatives.head())"
   ]
  },
  {
   "cell_type": "markdown",
   "metadata": {},
   "source": [
    "# Compute Correlations"
   ]
  },
  {
   "cell_type": "code",
   "execution_count": 11,
   "metadata": {},
   "outputs": [
    {
     "name": "stdout",
     "output_type": "stream",
     "text": [
      "             ticker       ADR        ADX     ADX+DI     ADX-DI        AO  \\\n",
      "0  BYBIT:MOCAUSDT.P  0.007900  30.433741  12.937618  28.978810 -0.017841   \n",
      "1  BYBIT:MOCAUSDT.P  0.007911  30.433741  12.918115  28.935126 -0.017855   \n",
      "2  BYBIT:MOCAUSDT.P  0.007911  30.433741  12.918115  28.935126 -0.017855   \n",
      "3  BYBIT:MOCAUSDT.P  0.007911  30.433741  12.918115  28.935126 -0.017855   \n",
      "4  BYBIT:MOCAUSDT.P  0.007911  30.433741  12.918115  28.935126 -0.017855   \n",
      "\n",
      "        ATR  Aroon.Down   Aroon.Up  BB.lower  ...  volume_quote|1  \\\n",
      "0  0.007571   85.714286  14.285714  0.067819  ...       221.39524   \n",
      "1  0.007583   85.714286  14.285714  0.067806  ...         2.07225   \n",
      "2  0.007583   85.714286  14.285714  0.067859  ...       123.47909   \n",
      "3  0.007583   85.714286  14.285714  0.067840  ...       153.47535   \n",
      "4  0.007583   85.714286  14.285714  0.067796  ...        71.42632   \n",
      "\n",
      "   volume_quote|5  volume_quote|15  volume_quote|30  volume_quote|60  \\\n",
      "0      4448.43765       4448.43765      24815.59542      24815.59542   \n",
      "1      9503.87575      13956.52700      34318.37875      34318.37875   \n",
      "2      3393.09447      18822.81971      39258.95574      39258.95574   \n",
      "3      1308.04079       1308.04079       1308.04079      40958.53209   \n",
      "4       769.65504       4452.13832       4452.13832      43994.39352   \n",
      "\n",
      "   volume_quote|120  volume_quote|240  volume_quote|1W  volume_quote|1M  \\\n",
      "0      133796.98233      293091.96056     1.702784e+07     4.602136e+07   \n",
      "1      143271.37400      302623.94525     1.703291e+07     4.598922e+07   \n",
      "2      148609.43423      308543.35688     1.709987e+07     4.616181e+07   \n",
      "3      150167.05228      309893.34943     1.707942e+07     4.610364e+07   \n",
      "4      152966.95180      312195.08488     1.703160e+07     4.596905e+07   \n",
      "\n",
      "                     DateTime  \n",
      "0  2024-10-12T15:18:51.853736  \n",
      "1  2024-10-12T15:23:54.336206  \n",
      "2  2024-10-12T15:28:54.013512  \n",
      "3  2024-10-12T15:33:56.236974  \n",
      "4  2024-10-12T15:38:49.628273  \n",
      "\n",
      "[5 rows x 2606 columns]\n",
      "       symbol                 datetime  signal_price  signal_filter  timeframe\n",
      "0  MOCAUSDT.P  2024-10-12 18:50:07.548        0.0762              2          2\n"
     ]
    }
   ],
   "source": [
    "# # Correlation between signal and each derivative variable\n",
    "# correlation_results = derivatives.corrwith(signals['signal_price'])\n",
    "\n",
    "# # Sort the results to see the strongest correlations\n",
    "# top_correlations = correlation_results.sort_values(ascending=False).head(10)\n",
    "# print(top_correlations)\n",
    "# print(signals.columns)\n",
    "print(derivatives.head())\n",
    "print(signals.head())"
   ]
  },
  {
   "cell_type": "code",
   "execution_count": 12,
   "metadata": {},
   "outputs": [
    {
     "ename": "KeyError",
     "evalue": "'datetime'",
     "output_type": "error",
     "traceback": [
      "\u001b[0;31m---------------------------------------------------------------------------\u001b[0m",
      "\u001b[0;31mKeyError\u001b[0m                                  Traceback (most recent call last)",
      "File \u001b[0;32m~/Desktop/Latino-Web-Studio/Quant-Trading/MOCA Cryptocurrency Signal Analysis and Indicator Correlation/venv/lib/python3.11/site-packages/pandas/core/indexes/base.py:3805\u001b[0m, in \u001b[0;36mIndex.get_loc\u001b[0;34m(self, key)\u001b[0m\n\u001b[1;32m   3804\u001b[0m \u001b[38;5;28;01mtry\u001b[39;00m:\n\u001b[0;32m-> 3805\u001b[0m     \u001b[38;5;28;01mreturn\u001b[39;00m \u001b[38;5;28;43mself\u001b[39;49m\u001b[38;5;241;43m.\u001b[39;49m\u001b[43m_engine\u001b[49m\u001b[38;5;241;43m.\u001b[39;49m\u001b[43mget_loc\u001b[49m\u001b[43m(\u001b[49m\u001b[43mcasted_key\u001b[49m\u001b[43m)\u001b[49m\n\u001b[1;32m   3806\u001b[0m \u001b[38;5;28;01mexcept\u001b[39;00m \u001b[38;5;167;01mKeyError\u001b[39;00m \u001b[38;5;28;01mas\u001b[39;00m err:\n",
      "File \u001b[0;32mindex.pyx:167\u001b[0m, in \u001b[0;36mpandas._libs.index.IndexEngine.get_loc\u001b[0;34m()\u001b[0m\n",
      "File \u001b[0;32mindex.pyx:196\u001b[0m, in \u001b[0;36mpandas._libs.index.IndexEngine.get_loc\u001b[0;34m()\u001b[0m\n",
      "File \u001b[0;32mpandas/_libs/hashtable_class_helper.pxi:7081\u001b[0m, in \u001b[0;36mpandas._libs.hashtable.PyObjectHashTable.get_item\u001b[0;34m()\u001b[0m\n",
      "File \u001b[0;32mpandas/_libs/hashtable_class_helper.pxi:7089\u001b[0m, in \u001b[0;36mpandas._libs.hashtable.PyObjectHashTable.get_item\u001b[0;34m()\u001b[0m\n",
      "\u001b[0;31mKeyError\u001b[0m: 'datetime'",
      "\nThe above exception was the direct cause of the following exception:\n",
      "\u001b[0;31mKeyError\u001b[0m                                  Traceback (most recent call last)",
      "Cell \u001b[0;32mIn[12], line 2\u001b[0m\n\u001b[1;32m      1\u001b[0m \u001b[38;5;66;03m# Convert 'datetime' columns to datetime format and set as index\u001b[39;00m\n\u001b[0;32m----> 2\u001b[0m derivatives[\u001b[38;5;124m'\u001b[39m\u001b[38;5;124mdatetime\u001b[39m\u001b[38;5;124m'\u001b[39m] \u001b[38;5;241m=\u001b[39m pd\u001b[38;5;241m.\u001b[39mto_datetime(\u001b[43mderivatives\u001b[49m\u001b[43m[\u001b[49m\u001b[38;5;124;43m'\u001b[39;49m\u001b[38;5;124;43mdatetime\u001b[39;49m\u001b[38;5;124;43m'\u001b[39;49m\u001b[43m]\u001b[49m, errors\u001b[38;5;241m=\u001b[39m\u001b[38;5;124m'\u001b[39m\u001b[38;5;124mcoerce\u001b[39m\u001b[38;5;124m'\u001b[39m)\n\u001b[1;32m      3\u001b[0m signals[\u001b[38;5;124m'\u001b[39m\u001b[38;5;124mdatetime\u001b[39m\u001b[38;5;124m'\u001b[39m] \u001b[38;5;241m=\u001b[39m pd\u001b[38;5;241m.\u001b[39mto_datetime(signals[\u001b[38;5;124m'\u001b[39m\u001b[38;5;124mdatetime\u001b[39m\u001b[38;5;124m'\u001b[39m], errors\u001b[38;5;241m=\u001b[39m\u001b[38;5;124m'\u001b[39m\u001b[38;5;124mcoerce\u001b[39m\u001b[38;5;124m'\u001b[39m)\n\u001b[1;32m      5\u001b[0m \u001b[38;5;66;03m# Set 'datetime' as the index for both DataFrames\u001b[39;00m\n",
      "File \u001b[0;32m~/Desktop/Latino-Web-Studio/Quant-Trading/MOCA Cryptocurrency Signal Analysis and Indicator Correlation/venv/lib/python3.11/site-packages/pandas/core/frame.py:4102\u001b[0m, in \u001b[0;36mDataFrame.__getitem__\u001b[0;34m(self, key)\u001b[0m\n\u001b[1;32m   4100\u001b[0m \u001b[38;5;28;01mif\u001b[39;00m \u001b[38;5;28mself\u001b[39m\u001b[38;5;241m.\u001b[39mcolumns\u001b[38;5;241m.\u001b[39mnlevels \u001b[38;5;241m>\u001b[39m \u001b[38;5;241m1\u001b[39m:\n\u001b[1;32m   4101\u001b[0m     \u001b[38;5;28;01mreturn\u001b[39;00m \u001b[38;5;28mself\u001b[39m\u001b[38;5;241m.\u001b[39m_getitem_multilevel(key)\n\u001b[0;32m-> 4102\u001b[0m indexer \u001b[38;5;241m=\u001b[39m \u001b[38;5;28;43mself\u001b[39;49m\u001b[38;5;241;43m.\u001b[39;49m\u001b[43mcolumns\u001b[49m\u001b[38;5;241;43m.\u001b[39;49m\u001b[43mget_loc\u001b[49m\u001b[43m(\u001b[49m\u001b[43mkey\u001b[49m\u001b[43m)\u001b[49m\n\u001b[1;32m   4103\u001b[0m \u001b[38;5;28;01mif\u001b[39;00m is_integer(indexer):\n\u001b[1;32m   4104\u001b[0m     indexer \u001b[38;5;241m=\u001b[39m [indexer]\n",
      "File \u001b[0;32m~/Desktop/Latino-Web-Studio/Quant-Trading/MOCA Cryptocurrency Signal Analysis and Indicator Correlation/venv/lib/python3.11/site-packages/pandas/core/indexes/base.py:3812\u001b[0m, in \u001b[0;36mIndex.get_loc\u001b[0;34m(self, key)\u001b[0m\n\u001b[1;32m   3807\u001b[0m     \u001b[38;5;28;01mif\u001b[39;00m \u001b[38;5;28misinstance\u001b[39m(casted_key, \u001b[38;5;28mslice\u001b[39m) \u001b[38;5;129;01mor\u001b[39;00m (\n\u001b[1;32m   3808\u001b[0m         \u001b[38;5;28misinstance\u001b[39m(casted_key, abc\u001b[38;5;241m.\u001b[39mIterable)\n\u001b[1;32m   3809\u001b[0m         \u001b[38;5;129;01mand\u001b[39;00m \u001b[38;5;28many\u001b[39m(\u001b[38;5;28misinstance\u001b[39m(x, \u001b[38;5;28mslice\u001b[39m) \u001b[38;5;28;01mfor\u001b[39;00m x \u001b[38;5;129;01min\u001b[39;00m casted_key)\n\u001b[1;32m   3810\u001b[0m     ):\n\u001b[1;32m   3811\u001b[0m         \u001b[38;5;28;01mraise\u001b[39;00m InvalidIndexError(key)\n\u001b[0;32m-> 3812\u001b[0m     \u001b[38;5;28;01mraise\u001b[39;00m \u001b[38;5;167;01mKeyError\u001b[39;00m(key) \u001b[38;5;28;01mfrom\u001b[39;00m \u001b[38;5;21;01merr\u001b[39;00m\n\u001b[1;32m   3813\u001b[0m \u001b[38;5;28;01mexcept\u001b[39;00m \u001b[38;5;167;01mTypeError\u001b[39;00m:\n\u001b[1;32m   3814\u001b[0m     \u001b[38;5;66;03m# If we have a listlike key, _check_indexing_error will raise\u001b[39;00m\n\u001b[1;32m   3815\u001b[0m     \u001b[38;5;66;03m#  InvalidIndexError. Otherwise we fall through and re-raise\u001b[39;00m\n\u001b[1;32m   3816\u001b[0m     \u001b[38;5;66;03m#  the TypeError.\u001b[39;00m\n\u001b[1;32m   3817\u001b[0m     \u001b[38;5;28mself\u001b[39m\u001b[38;5;241m.\u001b[39m_check_indexing_error(key)\n",
      "\u001b[0;31mKeyError\u001b[0m: 'datetime'"
     ]
    }
   ],
   "source": [
    "# Convert 'datetime' columns to datetime format and set as index\n",
    "derivatives['datetime'] = pd.to_datetime(derivatives['datetime'], errors='coerce')\n",
    "signals['datetime'] = pd.to_datetime(signals['datetime'], errors='coerce')\n",
    "\n",
    "# Set 'datetime' as the index for both DataFrames\n",
    "derivatives.set_index('datetime', inplace=True)\n",
    "signals.set_index('datetime', inplace=True)\n",
    "\n",
    "# Keep only numeric columns from derivatives\n",
    "derivatives_numeric = derivatives.select_dtypes(include=['float64', 'int64'])\n",
    "\n",
    "# Ensure both DataFrames have aligned indexes\n",
    "aligned_derivatives = derivatives_numeric.loc[signals.index]\n",
    "\n",
    "# Calculate correlation between 'signal_price' and each derivative variable\n",
    "correlation_results = aligned_derivatives.corrwith(signals['signal_price'])\n",
    "\n",
    "# Sort the results to find the top correlations\n",
    "top_correlations = correlation_results.sort_values(ascending=False).head(10)\n",
    "print(top_correlations)"
   ]
  }
 ],
 "metadata": {
  "kernelspec": {
   "display_name": "venv",
   "language": "python",
   "name": "python3"
  },
  "language_info": {
   "codemirror_mode": {
    "name": "ipython",
    "version": 3
   },
   "file_extension": ".py",
   "mimetype": "text/x-python",
   "name": "python",
   "nbconvert_exporter": "python",
   "pygments_lexer": "ipython3",
   "version": "3.11.2"
  }
 },
 "nbformat": 4,
 "nbformat_minor": 2
}
